{
 "cells": [
  {
   "cell_type": "code",
   "execution_count": 22,
   "metadata": {},
   "outputs": [],
   "source": [
    "# import necessary libraries\n",
    "import pandas as pd\n",
    "\n",
    "from sqlalchemy.ext.automap import automap_base\n",
    "from sqlalchemy.orm import Session\n",
    "from sqlalchemy import create_engine, func\n",
    "\n",
    "from flask import (\n",
    "    Flask,\n",
    "    render_template,\n",
    "    jsonify)\n",
    "\n",
    "from ast import literal_eval\n",
    "#################################################\n",
    "# Database Setup\n",
    "#################################################\n",
    "engine = create_engine(\"sqlite:///sql/exoplanetorium.sqlite\")\n",
    "\n",
    "# reflect an existing database into a new model\n",
    "Base = automap_base()\n",
    "# reflect the tables\n",
    "Base.prepare(engine, reflect=True)\n",
    "\n",
    "# Save references to the table\n",
    "Planet = Base.classes.planet\n",
    "Star = Base.classes.hostStar\n",
    "\n",
    "# Create our session (link) from Python to the DB\n",
    "session = Session(engine)\n",
    "\n",
    "#################################################\n",
    "# Flask Setup\n",
    "#################################################\n",
    "app = Flask(__name__)"
   ]
  },
  {
   "cell_type": "code",
   "execution_count": 12,
   "metadata": {},
   "outputs": [
    {
     "data": {
      "text/plain": [
       "'sun'"
      ]
     },
     "execution_count": 12,
     "metadata": {},
     "output_type": "execute_result"
    }
   ],
   "source": [
    "sun = session.query(Star).filter(Star.StarIdentifier == 'sun').first()\n",
    "sun.StarIdentifier"
   ]
  },
  {
   "cell_type": "code",
   "execution_count": 14,
   "metadata": {},
   "outputs": [
    {
     "name": "stdout",
     "output_type": "stream",
     "text": [
      "Mercury\n",
      "Venus\n",
      "Earth\n",
      "Mars\n",
      "Jupiter\n",
      "Saturn\n",
      "Uranus\n",
      "Neptune\n",
      "Pluto\n"
     ]
    }
   ],
   "source": [
    "solarSystem = session.query(Planets).filter(Planets.HostStar == 'sun').all()\n",
    "for planet in solarSystem:\n",
    "    print(planet.PlanetIdentifier)"
   ]
  },
  {
   "cell_type": "code",
   "execution_count": 17,
   "metadata": {},
   "outputs": [
    {
     "ename": "RuntimeError",
     "evalue": "Working outside of application context.\n\nThis typically means that you attempted to use functionality that needed\nto interface with the current application object in a way.  To solve\nthis set up an application context with app.app_context().  See the\ndocumentation for more information.",
     "output_type": "error",
     "traceback": [
      "\u001b[0;31m---------------------------------------------------------------------------\u001b[0m",
      "\u001b[0;31mRuntimeError\u001b[0m                              Traceback (most recent call last)",
      "\u001b[0;32m<ipython-input-17-bb186a37f8d0>\u001b[0m in \u001b[0;36m<module>\u001b[0;34m()\u001b[0m\n\u001b[0;32m----> 1\u001b[0;31m \u001b[0mjsonify\u001b[0m\u001b[0;34m(\u001b[0m\u001b[0msolarSystem\u001b[0m\u001b[0;34m)\u001b[0m\u001b[0;34m\u001b[0m\u001b[0m\n\u001b[0m",
      "\u001b[0;32m~/anaconda/envs/py36/lib/python3.6/site-packages/flask/json.py\u001b[0m in \u001b[0;36mjsonify\u001b[0;34m(*args, **kwargs)\u001b[0m\n\u001b[1;32m    249\u001b[0m     \u001b[0mseparators\u001b[0m \u001b[0;34m=\u001b[0m \u001b[0;34m(\u001b[0m\u001b[0;34m','\u001b[0m\u001b[0;34m,\u001b[0m \u001b[0;34m':'\u001b[0m\u001b[0;34m)\u001b[0m\u001b[0;34m\u001b[0m\u001b[0m\n\u001b[1;32m    250\u001b[0m \u001b[0;34m\u001b[0m\u001b[0m\n\u001b[0;32m--> 251\u001b[0;31m     \u001b[0;32mif\u001b[0m \u001b[0mcurrent_app\u001b[0m\u001b[0;34m.\u001b[0m\u001b[0mconfig\u001b[0m\u001b[0;34m[\u001b[0m\u001b[0;34m'JSONIFY_PRETTYPRINT_REGULAR'\u001b[0m\u001b[0;34m]\u001b[0m \u001b[0;32mand\u001b[0m \u001b[0;32mnot\u001b[0m \u001b[0mrequest\u001b[0m\u001b[0;34m.\u001b[0m\u001b[0mis_xhr\u001b[0m\u001b[0;34m:\u001b[0m\u001b[0;34m\u001b[0m\u001b[0m\n\u001b[0m\u001b[1;32m    252\u001b[0m         \u001b[0mindent\u001b[0m \u001b[0;34m=\u001b[0m \u001b[0;36m2\u001b[0m\u001b[0;34m\u001b[0m\u001b[0m\n\u001b[1;32m    253\u001b[0m         \u001b[0mseparators\u001b[0m \u001b[0;34m=\u001b[0m \u001b[0;34m(\u001b[0m\u001b[0;34m', '\u001b[0m\u001b[0;34m,\u001b[0m \u001b[0;34m': '\u001b[0m\u001b[0;34m)\u001b[0m\u001b[0;34m\u001b[0m\u001b[0m\n",
      "\u001b[0;32m~/anaconda/envs/py36/lib/python3.6/site-packages/werkzeug/local.py\u001b[0m in \u001b[0;36m__getattr__\u001b[0;34m(self, name)\u001b[0m\n\u001b[1;32m    345\u001b[0m         \u001b[0;32mif\u001b[0m \u001b[0mname\u001b[0m \u001b[0;34m==\u001b[0m \u001b[0;34m'__members__'\u001b[0m\u001b[0;34m:\u001b[0m\u001b[0;34m\u001b[0m\u001b[0m\n\u001b[1;32m    346\u001b[0m             \u001b[0;32mreturn\u001b[0m \u001b[0mdir\u001b[0m\u001b[0;34m(\u001b[0m\u001b[0mself\u001b[0m\u001b[0;34m.\u001b[0m\u001b[0m_get_current_object\u001b[0m\u001b[0;34m(\u001b[0m\u001b[0;34m)\u001b[0m\u001b[0;34m)\u001b[0m\u001b[0;34m\u001b[0m\u001b[0m\n\u001b[0;32m--> 347\u001b[0;31m         \u001b[0;32mreturn\u001b[0m \u001b[0mgetattr\u001b[0m\u001b[0;34m(\u001b[0m\u001b[0mself\u001b[0m\u001b[0;34m.\u001b[0m\u001b[0m_get_current_object\u001b[0m\u001b[0;34m(\u001b[0m\u001b[0;34m)\u001b[0m\u001b[0;34m,\u001b[0m \u001b[0mname\u001b[0m\u001b[0;34m)\u001b[0m\u001b[0;34m\u001b[0m\u001b[0m\n\u001b[0m\u001b[1;32m    348\u001b[0m \u001b[0;34m\u001b[0m\u001b[0m\n\u001b[1;32m    349\u001b[0m     \u001b[0;32mdef\u001b[0m \u001b[0m__setitem__\u001b[0m\u001b[0;34m(\u001b[0m\u001b[0mself\u001b[0m\u001b[0;34m,\u001b[0m \u001b[0mkey\u001b[0m\u001b[0;34m,\u001b[0m \u001b[0mvalue\u001b[0m\u001b[0;34m)\u001b[0m\u001b[0;34m:\u001b[0m\u001b[0;34m\u001b[0m\u001b[0m\n",
      "\u001b[0;32m~/anaconda/envs/py36/lib/python3.6/site-packages/werkzeug/local.py\u001b[0m in \u001b[0;36m_get_current_object\u001b[0;34m(self)\u001b[0m\n\u001b[1;32m    304\u001b[0m         \"\"\"\n\u001b[1;32m    305\u001b[0m         \u001b[0;32mif\u001b[0m \u001b[0;32mnot\u001b[0m \u001b[0mhasattr\u001b[0m\u001b[0;34m(\u001b[0m\u001b[0mself\u001b[0m\u001b[0;34m.\u001b[0m\u001b[0m__local\u001b[0m\u001b[0;34m,\u001b[0m \u001b[0;34m'__release_local__'\u001b[0m\u001b[0;34m)\u001b[0m\u001b[0;34m:\u001b[0m\u001b[0;34m\u001b[0m\u001b[0m\n\u001b[0;32m--> 306\u001b[0;31m             \u001b[0;32mreturn\u001b[0m \u001b[0mself\u001b[0m\u001b[0;34m.\u001b[0m\u001b[0m__local\u001b[0m\u001b[0;34m(\u001b[0m\u001b[0;34m)\u001b[0m\u001b[0;34m\u001b[0m\u001b[0m\n\u001b[0m\u001b[1;32m    307\u001b[0m         \u001b[0;32mtry\u001b[0m\u001b[0;34m:\u001b[0m\u001b[0;34m\u001b[0m\u001b[0m\n\u001b[1;32m    308\u001b[0m             \u001b[0;32mreturn\u001b[0m \u001b[0mgetattr\u001b[0m\u001b[0;34m(\u001b[0m\u001b[0mself\u001b[0m\u001b[0;34m.\u001b[0m\u001b[0m__local\u001b[0m\u001b[0;34m,\u001b[0m \u001b[0mself\u001b[0m\u001b[0;34m.\u001b[0m\u001b[0m__name__\u001b[0m\u001b[0;34m)\u001b[0m\u001b[0;34m\u001b[0m\u001b[0m\n",
      "\u001b[0;32m~/anaconda/envs/py36/lib/python3.6/site-packages/flask/globals.py\u001b[0m in \u001b[0;36m_find_app\u001b[0;34m()\u001b[0m\n\u001b[1;32m     49\u001b[0m     \u001b[0mtop\u001b[0m \u001b[0;34m=\u001b[0m \u001b[0m_app_ctx_stack\u001b[0m\u001b[0;34m.\u001b[0m\u001b[0mtop\u001b[0m\u001b[0;34m\u001b[0m\u001b[0m\n\u001b[1;32m     50\u001b[0m     \u001b[0;32mif\u001b[0m \u001b[0mtop\u001b[0m \u001b[0;32mis\u001b[0m \u001b[0;32mNone\u001b[0m\u001b[0;34m:\u001b[0m\u001b[0;34m\u001b[0m\u001b[0m\n\u001b[0;32m---> 51\u001b[0;31m         \u001b[0;32mraise\u001b[0m \u001b[0mRuntimeError\u001b[0m\u001b[0;34m(\u001b[0m\u001b[0m_app_ctx_err_msg\u001b[0m\u001b[0;34m)\u001b[0m\u001b[0;34m\u001b[0m\u001b[0m\n\u001b[0m\u001b[1;32m     52\u001b[0m     \u001b[0;32mreturn\u001b[0m \u001b[0mtop\u001b[0m\u001b[0;34m.\u001b[0m\u001b[0mapp\u001b[0m\u001b[0;34m\u001b[0m\u001b[0m\n\u001b[1;32m     53\u001b[0m \u001b[0;34m\u001b[0m\u001b[0m\n",
      "\u001b[0;31mRuntimeError\u001b[0m: Working outside of application context.\n\nThis typically means that you attempted to use functionality that needed\nto interface with the current application object in a way.  To solve\nthis set up an application context with app.app_context().  See the\ndocumentation for more information."
     ]
    }
   ],
   "source": [
    "jsonify(solarSystem)"
   ]
  },
  {
   "cell_type": "code",
   "execution_count": 23,
   "metadata": {},
   "outputs": [],
   "source": [
    "def drawStar(starName):\n",
    "    '''star system data retriever, returns (star,[planets])'''\n",
    "    star = session.query(Star).filter(Star.StarIdentifier == starName).first()\n",
    "\n",
    "    star_data = {\n",
    "    'Color': star.Color,\n",
    "    'RadiusSlrRad': star.RadiusSlrRad,\n",
    "    'InnerHabitabilityAU': star.InnerHabitabilityAU,\n",
    "    'OuterHabitabilityAU': star.OuterHabitabilityAU,\n",
    "    'PlanetList': star.PlanetList\n",
    "    }\n",
    "\n",
    "    planets = []\n",
    "    for planetName in literal_eval(star.PlanetList):\n",
    "        print(\"/\\/\\/\\/\\/\\/\\/\\/\\/\"+ planetName)\n",
    "        planet = session.query(Planet).filter(Planet.PlanetIdentifier == planetName).first()\n",
    "        planets.append({\n",
    "        'PlanetIdentifier': planetName,\n",
    "        'PeriodDays': planet.PeriodDays,\n",
    "        'RadiusJpt': planet.RadiusJpt,\n",
    "        'SemiMajorAxisAU': planet.SemiMajorAxisAU,\n",
    "        'PlanetaryMassJpt': planet.PlanetaryMassJpt,\n",
    "        })\n",
    "\n",
    "    return star_data, planets\n"
   ]
  },
  {
   "cell_type": "code",
   "execution_count": 24,
   "metadata": {},
   "outputs": [
    {
     "name": "stdout",
     "output_type": "stream",
     "text": [
      "/\\/\\/\\/\\/\\/\\/\\/\\/Mercury\n",
      "/\\/\\/\\/\\/\\/\\/\\/\\/Venus\n",
      "/\\/\\/\\/\\/\\/\\/\\/\\/Earth\n",
      "/\\/\\/\\/\\/\\/\\/\\/\\/Mars\n",
      "/\\/\\/\\/\\/\\/\\/\\/\\/Jupiter\n",
      "/\\/\\/\\/\\/\\/\\/\\/\\/Saturn\n",
      "/\\/\\/\\/\\/\\/\\/\\/\\/Uranus\n",
      "/\\/\\/\\/\\/\\/\\/\\/\\/Neptune\n",
      "/\\/\\/\\/\\/\\/\\/\\/\\/Pluto\n"
     ]
    },
    {
     "data": {
      "text/plain": [
       "({'Color': '#fff4ea',\n",
       "  'InnerHabitabilityAU': 0.9554458702267188,\n",
       "  'OuterHabitabilityAU': 1.376462852733734,\n",
       "  'PlanetList': \"['Mercury', 'Venus', 'Earth', 'Mars', 'Jupiter', 'Saturn', 'Uranus', 'Neptune', 'Pluto']\",\n",
       "  'RadiusSlrRad': 1.0},\n",
       " [{'PeriodDays': 87.97,\n",
       "   'PlanetIdentifier': 'Mercury',\n",
       "   'PlanetaryMassJpt': 0.00017387418999999994,\n",
       "   'RadiusJpt': 0.034901518,\n",
       "   'SemiMajorAxisAU': 0.38709843},\n",
       "  {'PeriodDays': 224.7,\n",
       "   'PlanetIdentifier': 'Venus',\n",
       "   'PlanetaryMassJpt': 0.0025637401,\n",
       "   'RadiusJpt': 0.08656491,\n",
       "   'SemiMajorAxisAU': 0.72332102},\n",
       "  {'PeriodDays': 365.2422,\n",
       "   'PlanetIdentifier': 'Earth',\n",
       "   'PlanetaryMassJpt': 0.0031457007,\n",
       "   'RadiusJpt': 0.091130294,\n",
       "   'SemiMajorAxisAU': 1.00000018},\n",
       "  {'PeriodDays': 686.98,\n",
       "   'PlanetIdentifier': 'Mars',\n",
       "   'PlanetaryMassJpt': 0.00033799525000000004,\n",
       "   'RadiusJpt': 0.048489079000000004,\n",
       "   'SemiMajorAxisAU': 1.52371243},\n",
       "  {'PeriodDays': 4332.82,\n",
       "   'PlanetIdentifier': 'Jupiter',\n",
       "   'PlanetaryMassJpt': 1.0,\n",
       "   'RadiusJpt': 1.0,\n",
       "   'SemiMajorAxisAU': 5.20248019},\n",
       "  {'PeriodDays': 10755.67,\n",
       "   'PlanetIdentifier': 'Saturn',\n",
       "   'PlanetaryMassJpt': 0.299,\n",
       "   'RadiusJpt': 0.832944,\n",
       "   'SemiMajorAxisAU': 9.54149883},\n",
       "  {'PeriodDays': 30687.153,\n",
       "   'PlanetIdentifier': 'Uranus',\n",
       "   'PlanetaryMassJpt': 0.0457,\n",
       "   'RadiusJpt': 0.362775,\n",
       "   'SemiMajorAxisAU': 19.18797948},\n",
       "  {'PeriodDays': 60190.03,\n",
       "   'PlanetIdentifier': 'Neptune',\n",
       "   'PlanetaryMassJpt': 0.053952999999999994,\n",
       "   'RadiusJpt': 0.35221925,\n",
       "   'SemiMajorAxisAU': 30.06952752},\n",
       "  {'PeriodDays': 90553.02,\n",
       "   'PlanetIdentifier': 'Pluto',\n",
       "   'PlanetaryMassJpt': 7.7581378e-06,\n",
       "   'RadiusJpt': 0.016437900000000002,\n",
       "   'SemiMajorAxisAU': 39.48686035}])"
      ]
     },
     "execution_count": 24,
     "metadata": {},
     "output_type": "execute_result"
    }
   ],
   "source": [
    "drawStar('sun')"
   ]
  },
  {
   "cell_type": "code",
   "execution_count": 35,
   "metadata": {},
   "outputs": [],
   "source": [
    "(masses, radii, names) = session.query(Planet.PlanetaryMassJpt, Planet.RadiusJpt, Planet.PlanetIdentifier).filter(Planet.PlanetaryMassJpt != None).filter(Planet.RadiusJpt != None).filter(Planet.PlanetaryMassJpt < 10).filter(Planet.RadiusJpt < 5).first()"
   ]
  },
  {
   "cell_type": "code",
   "execution_count": 36,
   "metadata": {},
   "outputs": [
    {
     "data": {
      "text/plain": [
       "0.0014"
      ]
     },
     "execution_count": 36,
     "metadata": {},
     "output_type": "execute_result"
    }
   ],
   "source": [
    "masses"
   ]
  },
  {
   "cell_type": "code",
   "execution_count": null,
   "metadata": {},
   "outputs": [],
   "source": []
  }
 ],
 "metadata": {
  "kernelspec": {
   "display_name": "Python 3",
   "language": "python",
   "name": "python3"
  },
  "language_info": {
   "codemirror_mode": {
    "name": "ipython",
    "version": 3
   },
   "file_extension": ".py",
   "mimetype": "text/x-python",
   "name": "python",
   "nbconvert_exporter": "python",
   "pygments_lexer": "ipython3",
   "version": "3.6.4"
  }
 },
 "nbformat": 4,
 "nbformat_minor": 2
}
